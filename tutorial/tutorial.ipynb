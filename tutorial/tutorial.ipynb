{
 "metadata": {
  "language_info": {
   "codemirror_mode": {
    "name": "ipython",
    "version": 3
   },
   "file_extension": ".py",
   "mimetype": "text/x-python",
   "name": "python",
   "nbconvert_exporter": "python",
   "pygments_lexer": "ipython3",
   "version": "3.8.3-final"
  },
  "orig_nbformat": 2,
  "kernelspec": {
   "name": "python3",
   "display_name": "Python 3.8.3 64-bit ('venv')",
   "metadata": {
    "interpreter": {
     "hash": "35f442cd518f5e5588aa6c6e6745f454747ab9815096fe0907594720c9686c8c"
    }
   }
  }
 },
 "nbformat": 4,
 "nbformat_minor": 2,
 "cells": [
  {
   "cell_type": "code",
   "execution_count": 1,
   "metadata": {},
   "outputs": [],
   "source": [
    "import xlwings as xw"
   ]
  },
  {
   "source": [
    "## Create, reference and save a workbook"
   ],
   "cell_type": "markdown",
   "metadata": {}
  },
  {
   "cell_type": "code",
   "execution_count": 2,
   "metadata": {},
   "outputs": [],
   "source": [
    "wb = xw.Book(r'C:\\Users\\Valentin\\Projects\\python-excel\\tutorial\\tutorial.xlsm')\n",
    "wb.save('tutorial.xlsm')"
   ]
  },
  {
   "source": [
    "## Reference a worksheet"
   ],
   "cell_type": "markdown",
   "metadata": {}
  },
  {
   "cell_type": "code",
   "execution_count": null,
   "metadata": {},
   "outputs": [],
   "source": [
    "ws1 = wb.sheets[0]\n",
    "print(ws1.name)"
   ]
  },
  {
   "source": [
    "## Adding new sheets"
   ],
   "cell_type": "markdown",
   "metadata": {}
  },
  {
   "cell_type": "code",
   "execution_count": null,
   "metadata": {},
   "outputs": [],
   "source": [
    "wb.sheets.add(\n",
    "    name='Sheet2',\n",
    "    after='Sheet1'\n",
    ")\n",
    "\n",
    "ws2 = wb.sheets[1]\n",
    "\n",
    "wb.save('tutorial.xlsx')"
   ]
  },
  {
   "source": [
    "## Adding data in a worksheet"
   ],
   "cell_type": "markdown",
   "metadata": {}
  },
  {
   "cell_type": "code",
   "execution_count": null,
   "metadata": {},
   "outputs": [],
   "source": [
    "ws1.range('A1').value = ['Tickers', 'Companies']\n",
    "wb.save()"
   ]
  },
  {
   "cell_type": "code",
   "execution_count": null,
   "metadata": {},
   "outputs": [],
   "source": [
    "data = [\n",
    "    ['AMZN', 'Amazon'], \n",
    "    ['GOOG', 'Google'], \n",
    "    ['MSFT', 'Microsoft'], \n",
    "    ['AAPL', 'Apple']\n",
    "]\n",
    "\n",
    "ws1.range('A2').value = data\n",
    "wb.save()"
   ]
  },
  {
   "source": [
    "## How to write a function in python and using it in excel"
   ],
   "cell_type": "markdown",
   "metadata": {}
  },
  {
   "source": [
    "## Making sure you can use the xlwings addin with Excel\n",
    "\n",
    "With your excel windows open, open the Developer tab and click on the Excel add-ins. Browse all the way to your project directory where the ```xlwings.xlam``` is located.\n",
    "\n",
    "Next, open a VBA window (Alt+F11), and click on 'tools' > 'references' and make sure xlwings is checked.\n",
    "\n",
    "## Custom function in Python\n",
    "\n",
    "We are now going to create a custom function in Python, that will get the stock market price data for each company in our Sheet1."
   ],
   "cell_type": "markdown",
   "metadata": {}
  },
  {
   "cell_type": "code",
   "execution_count": null,
   "metadata": {},
   "outputs": [],
   "source": [
    "import yfinance as yf\n",
    "\n",
    "def get_data(ticker_list, period):\n",
    "    for company in ticker_list:\n",
    "        ticker = yf.Ticker(ticker=company)\n",
    "        data = ticker.history(period=period)\n",
    "\n",
    "        wb = xw.Book.caller()\n",
    "        wb.sheets[1].range('A1').value = data\n"
   ]
  },
  {
   "cell_type": "code",
   "execution_count": null,
   "metadata": {},
   "outputs": [],
   "source": []
  }
 ]
}